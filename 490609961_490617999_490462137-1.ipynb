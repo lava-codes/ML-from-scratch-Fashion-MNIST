{
 "cells": [
  {
   "cell_type": "markdown",
   "metadata": {},
   "source": [
    "# COMP5318 - Machine Learning and Data Mining: Assignment 1\n",
    "<div style=\"text-align: right\"> Due: Tuesday 8 Oct 2019 5:00PM </div>"
   ]
  },
  {
   "cell_type": "markdown",
   "metadata": {
    "nbpresent": {
     "id": "375753da-1c6c-4b02-986a-6e3b185a5869"
    }
   },
   "source": [
    "# Summary\n",
    "The goal of this assignment is to build a classifier to classify some grayscale images of the size 28x28 into a set of categories. The dimension of the original data is large, so you need to be smart on which method you gonna use and perhaps perform a pre-processing step to reduce the amount of computation. Part of your marks will be a function of the performance of your classifier on the test set."
   ]
  },
  {
   "cell_type": "markdown",
   "metadata": {},
   "source": [
    "## Dataset description\n",
    "The dataset can be downloaded from Canvas. The dataset consists of a training set of 30,000 examples and a test set of 5,000 examples. They belong to 10 different categories. The validation set is not provided, but you can randomly pick a subset of the training set for validation. The labels of the first 2,000 test examples are given, you will analyse the performance of your proposed method by exploiting the 2,000 test examples. It is NOT allowed to use any examples from the test set for training; or it will be considered as cheating. The rest 3,000 labels of the test set are reserved for marking purpose. <br />\n",
    "Here are examples illustrating sample of the dataset (each class takes one row):"
   ]
  },
  {
   "cell_type": "markdown",
   "metadata": {},
   "source": [
    "<img src=\"Dataset_image.jpg\" alt=\"DataSet\" title=\"DataSet\" width=\"450\" height=\"300\" />"
   ]
  },
  {
   "cell_type": "markdown",
   "metadata": {},
   "source": [
    "There are 10 classes in total:<br />\n",
    "0 T-shirt/Top<br />\n",
    "1 Trouser<br />\n",
    "2 Pullover<br />\n",
    "3 Dress<br />\n",
    "4 Coat<br />\n",
    "5 Sandal<br />\n",
    "6 Shirt<br />\n",
    "7 Sneaker<br />\n",
    "8 Bag<br />\n",
    "9 Ankle boot <br />"
   ]
  },
  {
   "cell_type": "markdown",
   "metadata": {},
   "source": [
    "### How to load the data\n",
    "There is a data folder with 4 main files (which can be downloaded from Canvas):\n",
    "    1. images_training.h5\n",
    "    2. labels_training.h5\n",
    "    3. images_testing.h5\n",
    "    4. labels_testing_2000.h5"
   ]
  },
  {
   "cell_type": "markdown",
   "metadata": {},
   "source": [
    "To read the hdf5 file and load the data into a numpy array, assuming the **training data files are in the ./data/train** and **testing data file are in ./data/test**. <br /> Use the following code:"
   ]
  },
  {
   "cell_type": "markdown",
   "metadata": {},
   "source": [
    "Then data would be a numpy array of the shape (30000, 784), and\n",
    "label would be a numpy array of the shape (30000, ).\n",
    "The file images_testing.h5 can be loaded in a similar way."
   ]
  },
  {
   "cell_type": "markdown",
   "metadata": {},
   "source": [
    "# Loading the libraries"
   ]
  },
  {
   "cell_type": "code",
   "execution_count": 40,
   "metadata": {},
   "outputs": [],
   "source": [
    "import h5py\n",
    "import numpy as np\n",
    "import pandas as pd\n",
    "import os\n",
    "import matplotlib.pyplot as plt\n",
    "import time\n",
    "import operator"
   ]
  },
  {
   "cell_type": "markdown",
   "metadata": {},
   "source": [
    "# Reading Fashion MNIST data"
   ]
  },
  {
   "cell_type": "code",
   "execution_count": 41,
   "metadata": {},
   "outputs": [
    {
     "name": "stdout",
     "output_type": "stream",
     "text": [
      "['images_training.h5', 'labels_training.h5']\n",
      "Shape of train data and train label: (30000, 784) (30000,)\n",
      "['images_testing.h5', 'labels_testing_2000.h5']\n",
      "Shape of test data and test label: (10000, 784) (2000,)\n"
     ]
    }
   ],
   "source": [
    "print(os.listdir(\"./data/train\"))\n",
    "\n",
    "with h5py.File('./data/train/images_training.h5','r') as H:\n",
    "    data_train = np.copy(H['datatrain'])\n",
    "with h5py.File('./data/train/labels_training.h5','r') as H:\n",
    "    label_train = np.copy(H['labeltrain'])\n",
    "\n",
    "\n",
    "print(\"Shape of train data and train label:\",data_train.shape,label_train.shape)\n",
    "\n",
    "print(os.listdir(\"./Input\"))\n",
    "with h5py.File('./Input/images_testing.h5','r') as H:\n",
    "    data_test = np.copy(H['datatest'])\n",
    "with h5py.File('./Input/labels_testing_2000.h5','r') as H:\n",
    "    label_test = np.copy(H['labeltest'])\n",
    "\n",
    "print(\"Shape of test data and test label:\",data_test.shape,label_test.shape)"
   ]
  },
  {
   "cell_type": "markdown",
   "metadata": {},
   "source": [
    "Showing a sample data. The first example belongs to class 0: T-Shirt/Top"
   ]
  },
  {
   "cell_type": "markdown",
   "metadata": {},
   "source": [
    "# Reshaping data"
   ]
  },
  {
   "cell_type": "code",
   "execution_count": 42,
   "metadata": {},
   "outputs": [
    {
     "data": {
      "image/png": "[encoded data removed]",
      "text/plain": [
       "<Figure size 432x288 with 1 Axes>"
      ]
     },
     "metadata": {
      "needs_background": "light"
     },
     "output_type": "display_data"
    }
   ],
   "source": [
    "data_train_before_reshape = data_train\n",
    "data_train = data_train.reshape((data_train.shape[0], 28, 28))\n",
    "plt.imshow(data_train[4], cmap=plt.get_cmap('gray'))\n",
    "plt.title(\"class \" + str(label_train[4]) + \": T-shirt/Top\" )\n",
    "plt.show()"
   ]
  },
  {
   "cell_type": "markdown",
   "metadata": {},
   "source": [
    "# Running SVD"
   ]
  },
  {
   "cell_type": "code",
   "execution_count": 43,
   "metadata": {},
   "outputs": [
    {
     "data": {
      "text/plain": [
       "<matplotlib.image.AxesImage at 0x1d9559e4438>"
      ]
     },
     "execution_count": 43,
     "metadata": {},
     "output_type": "execute_result"
    },
    {
     "data": {
      "image/png": "[encoded data removed]",
      "text/plain": [
       "<Figure size 432x288 with 1 Axes>"
      ]
     },
     "metadata": {
      "needs_background": "light"
     },
     "output_type": "display_data"
    }
   ],
   "source": [
    "#using rank, we decomposed the matrices usind svd\n",
    "train_svd = data_train.copy()\n",
    "i = 0\n",
    "while i<30000: \n",
    "    y1 = np.linalg.matrix_rank(data_train[i])\n",
    "    #print(\"Rank\",y[i])\n",
    "    U, s, Vt = np.linalg.svd(data_train[i], full_matrices=False) \n",
    "    S = np.diag(s)\n",
    "    S1 = np.round(S,2)\n",
    "    S2 = S1[:y1,:y1]\n",
    "    U1 = np.round(U,2)\n",
    "    U2 = U1[:,0:y1]\n",
    "    Vt1 = np.round(Vt,2)\n",
    "    Vt2 = Vt1[0:y1,:]\n",
    "    train_svd[i] = U2.dot(S2.dot(Vt2))\n",
    "    i = i + 1\n",
    "   \n",
    "plt.imshow(train_svd[4], cmap=plt.get_cmap('gray'))"
   ]
  },
  {
   "cell_type": "markdown",
   "metadata": {},
   "source": [
    "# Logistic regression functions"
   ]
  },
  {
   "cell_type": "code",
   "execution_count": 44,
   "metadata": {},
   "outputs": [],
   "source": [
    "#function to split the training data \n",
    "def train_test_split(dataset, split=0.60):\n",
    "    train_size = int(split * dataset.shape[0])\n",
    "    return dataset[:train_size,:], dataset[train_size:,:]\n",
    "\n",
    "#softmax function\n",
    "def softmax(Z):\n",
    "    e_Z = np.exp(Z)\n",
    "    A = e_Z / e_Z.sum(axis = 1, keepdims = True)\n",
    "    return A\n",
    "\n",
    "#gradient descent\n",
    "def softmax_grad(X, y, W):\n",
    "    A = softmax(X.dot(W))    \n",
    "    id0 = range(X.shape[0])  \n",
    "    A[id0, y] -= 1          \n",
    "    return X.T.dot(A)/X.shape[0]\n",
    "\n",
    "#calculate the cost\n",
    "def softmax_loss(X, y, W):\n",
    "    A = softmax(X.dot(W))\n",
    "    id0 = range(X.shape[0])\n",
    "    return -np.mean(np.log(A[id0, y]))\n",
    "\n",
    "\n",
    "def softmax_fit(X, y, W, lr = 0.01, nepoches = 100, tol = 1e-5, batch_size = 10):\n",
    "    W_old = W.copy()\n",
    "    ep = 0 \n",
    "    loss_hist = [softmax_loss(X, y, W)] \n",
    "    N = X.shape[0]\n",
    "    nbatches = int(np.ceil(float(N)/batch_size)) #number of batches is inversely proprtional to the batch size\n",
    "    while ep < nepoches: \n",
    "        ep += 1 \n",
    "        mix_ids = np.random.permutation(N) # randomizing the data. similar to bootstrapping\n",
    "        for i in range(nbatches):\n",
    "            # get the i-th batch\n",
    "            batch_ids = mix_ids[batch_size*i:min(batch_size*(i+1), N)] \n",
    "            X_batch, y_batch = X[batch_ids], y[batch_ids]\n",
    "            W -= lr*softmax_grad(X_batch, y_batch, W) # update gradient descent\n",
    "        loss_hist.append(softmax_loss(X, y, W))\n",
    "        if np.linalg.norm(W - W_old)/W.size < tol:    #if the change in the weights is less than the threshold, we stop with the computation\n",
    "            break \n",
    "        W_old = W.copy()\n",
    "    return W, loss_hist \n",
    "\n",
    "# predicting the class\n",
    "def pred(W, X):\n",
    "    A = softmax(X.dot(W))\n",
    "    return np.argmax(A, axis = 1) #returning the class with the maximum probability\n",
    "\n",
    "#percentage of correct classifications\n",
    "def accuracy(y_pre,y):\n",
    "    count = y_pre == y\n",
    "    accuracy = count.sum()/len(count)\n",
    "    return accuracy"
   ]
  },
  {
   "cell_type": "markdown",
   "metadata": {},
   "source": [
    "# Computing the accuracy using logistic by splitting into validation set (40%-60%)"
   ]
  },
  {
   "cell_type": "code",
   "execution_count": 45,
   "metadata": {},
   "outputs": [
    {
     "name": "stdout",
     "output_type": "stream",
     "text": [
      "Accuracy on validation set (40-60): 78.81666666666666%\n",
      "Run Time on validation set (40-60): 0.04 Minutes\n"
     ]
    }
   ],
   "source": [
    "trainingSet = np.append(data_train_before_reshape,label_train[:,np.newaxis],axis=1) \n",
    "train, test = train_test_split(trainingSet,0.4)\n",
    "W_init = 0.1*np.random.randn(data_train_before_reshape.shape[1], 10) #initialising the weights for the 10 classes (and 784 pixels)\n",
    "data1 = train[:,:784]\n",
    "lab1 = train[:,784]\n",
    "lab1 = lab1.astype('int32')\n",
    "data2 = test[:,:784]\n",
    "lab2 = test[:,784]\n",
    "start_time = time.time()\n",
    "W, loss_hist = softmax_fit(data1, lab1, W_init, batch_size = 100, nepoches = 100, lr = 0.01)\n",
    "y_pre = pred(W,data2)\n",
    "elapsed_time = time.time()-start_time\n",
    "accuracy_40 = (accuracy(y_pre,lab2)*100.0)\n",
    "elapsed_40 = (elapsed_time)\n",
    "print(\"Accuracy on validation set (40-60): {}%\".format(accuracy_40))\n",
    "print(\"Run Time on validation set (40-60):\",round((elapsed_40/60.0),2),\"Minutes\")"
   ]
  },
  {
   "cell_type": "markdown",
   "metadata": {},
   "source": [
    "# Computing the accuracy using logistic by splitting into validation set (60%-40%)"
   ]
  },
  {
   "cell_type": "code",
   "execution_count": 46,
   "metadata": {},
   "outputs": [
    {
     "name": "stdout",
     "output_type": "stream",
     "text": [
      "Accuracy on validation set (60-40): 80.375%\n",
      "Run Time on validation set (60-40): 0.08 Minutes\n"
     ]
    }
   ],
   "source": [
    "trainingSet = np.append(data_train_before_reshape,label_train[:,np.newaxis],axis=1) \n",
    "train, test = train_test_split(trainingSet,0.6)\n",
    "W_init = 0.1*np.random.randn(data_train_before_reshape.shape[1], 10) #initialising the weights for the 10 classes (and 784 pixels)\n",
    "data1 = train[:,:784]\n",
    "lab1 = train[:,784]\n",
    "lab1 = lab1.astype('int32')\n",
    "data2 = test[:,:784]\n",
    "lab2 = test[:,784]\n",
    "start_time = time.time()\n",
    "W, loss_hist = softmax_fit(data1, lab1, W_init, batch_size = 100, nepoches = 100, lr = 0.01)\n",
    "y_pre = pred(W,data2)\n",
    "elapsed_time = time.time()-start_time\n",
    "accuracy_60 = (accuracy(y_pre,lab2)*100.0)\n",
    "elapsed_60 = (elapsed_time)\n",
    "print(\"Accuracy on validation set (60-40): {}%\".format(accuracy_60))\n",
    "print(\"Run Time on validation set (60-40):\",round((elapsed_60/60.0),2),\"Minutes\")"
   ]
  },
  {
   "cell_type": "markdown",
   "metadata": {},
   "source": [
    "# Computing the accuracy using logistic by splitting into validation set (70%-30%)"
   ]
  },
  {
   "cell_type": "code",
   "execution_count": 47,
   "metadata": {},
   "outputs": [
    {
     "name": "stdout",
     "output_type": "stream",
     "text": [
      "Accuracy on validation set (70-30): 81.13333333333334%\n",
      "Run Time on validation set (70-30): 0.1 Minutes\n"
     ]
    }
   ],
   "source": [
    "trainingSet = np.append(data_train_before_reshape,label_train[:,np.newaxis],axis=1) \n",
    "train, test = train_test_split(trainingSet,0.7)\n",
    "W_init = 0.1*np.random.randn(data_train_before_reshape.shape[1], 10) #initialising the weights for the 10 classes (and 784 pixels)\n",
    "data1 = train[:,:784]\n",
    "lab1 = train[:,784]\n",
    "lab1 = lab1.astype('int32')\n",
    "data2 = test[:,:784]\n",
    "lab2 = test[:,784]\n",
    "start_time = time.time()\n",
    "W, loss_hist = softmax_fit(data1, lab1, W_init, batch_size = 100, nepoches = 100, lr = 0.01)\n",
    "y_pre = pred(W,data2)\n",
    "elapsed_time = time.time()-start_time\n",
    "accuracy_70 = (accuracy(y_pre,lab2)*100.0)\n",
    "elapsed_70 = (elapsed_time)\n",
    "print(\"Accuracy on validation set (70-30): {}%\".format(accuracy_70))\n",
    "print(\"Run Time on validation set (70-30):\",round((elapsed_70/60.0),2),\"Minutes\")"
   ]
  },
  {
   "cell_type": "markdown",
   "metadata": {},
   "source": [
    "# Calling logistic regression on test data"
   ]
  },
  {
   "cell_type": "code",
   "execution_count": 48,
   "metadata": {},
   "outputs": [
    {
     "name": "stdout",
     "output_type": "stream",
     "text": [
      "Accuracy on test set: 83.5%\n",
      "Run Time on test set: 0.48 Minutes\n"
     ]
    }
   ],
   "source": [
    "W_init = 0.1*np.random.randn(data_train_before_reshape.shape[1], 10) #initialising the weights for the 10 classes (and 784 pixels)\n",
    "start_time = time.time()\n",
    "W, loss_hist = softmax_fit(data_train_before_reshape, label_train, W_init, batch_size = 100, nepoches = 100, lr = 0.05) \n",
    "y_pre = pred(W,data_test) #predicting the results\n",
    "elapsed_time = time.time()-start_time\n",
    "accuracy = accuracy(y_pre[:2000],label_test)*100.0\n",
    "print(\"Accuracy on test set: {}%\".format(accuracy))\n",
    "print(\"Run Time on test set:\",round((elapsed_time)/60.0,2),\"Minutes\")"
   ]
  },
  {
   "cell_type": "markdown",
   "metadata": {},
   "source": [
    "# Evaluating logistic regression"
   ]
  },
  {
   "cell_type": "code",
   "execution_count": 50,
   "metadata": {},
   "outputs": [
    {
     "ename": "NameError",
     "evalue": "name 'cmap' is not defined",
     "output_type": "error",
     "traceback": [
      "\u001b[1;31m---------------------------------------------------------------------------\u001b[0m",
      "\u001b[1;31mNameError\u001b[0m                                 Traceback (most recent call last)",
      "\u001b[1;32m<ipython-input-50-a3867d1d2ab4>\u001b[0m in \u001b[0;36m<module>\u001b[1;34m\u001b[0m\n\u001b[0;32m      3\u001b[0m \u001b[0mdf_confusion\u001b[0m \u001b[1;33m=\u001b[0m \u001b[0mpd\u001b[0m\u001b[1;33m.\u001b[0m\u001b[0mcrosstab\u001b[0m\u001b[1;33m(\u001b[0m\u001b[0my_actu\u001b[0m\u001b[1;33m,\u001b[0m \u001b[0my_pred\u001b[0m\u001b[1;33m)\u001b[0m\u001b[1;33m\u001b[0m\u001b[1;33m\u001b[0m\u001b[0m\n\u001b[0;32m      4\u001b[0m \u001b[0mdf_conf_norm\u001b[0m \u001b[1;33m=\u001b[0m \u001b[0mdf_confusion\u001b[0m \u001b[1;33m/\u001b[0m \u001b[0mdf_confusion\u001b[0m\u001b[1;33m.\u001b[0m\u001b[0msum\u001b[0m\u001b[1;33m(\u001b[0m\u001b[0maxis\u001b[0m\u001b[1;33m=\u001b[0m\u001b[1;36m1\u001b[0m\u001b[1;33m)\u001b[0m\u001b[1;33m\u001b[0m\u001b[1;33m\u001b[0m\u001b[0m\n\u001b[1;32m----> 5\u001b[1;33m \u001b[0mplt\u001b[0m\u001b[1;33m.\u001b[0m\u001b[0mmatshow\u001b[0m\u001b[1;33m(\u001b[0m\u001b[0mdf_confusion\u001b[0m\u001b[1;33m,\u001b[0m \u001b[0mcmap\u001b[0m\u001b[1;33m=\u001b[0m\u001b[0mcmap\u001b[0m\u001b[1;33m)\u001b[0m \u001b[1;31m# imshow\u001b[0m\u001b[1;33m\u001b[0m\u001b[1;33m\u001b[0m\u001b[0m\n\u001b[0m\u001b[0;32m      6\u001b[0m \u001b[0mplt\u001b[0m\u001b[1;33m.\u001b[0m\u001b[0mcolorbar\u001b[0m\u001b[1;33m(\u001b[0m\u001b[1;33m)\u001b[0m\u001b[1;33m\u001b[0m\u001b[1;33m\u001b[0m\u001b[0m\n\u001b[0;32m      7\u001b[0m \u001b[0mtick_marks\u001b[0m \u001b[1;33m=\u001b[0m \u001b[0mnp\u001b[0m\u001b[1;33m.\u001b[0m\u001b[0marange\u001b[0m\u001b[1;33m(\u001b[0m\u001b[0mlen\u001b[0m\u001b[1;33m(\u001b[0m\u001b[0mdf_confusion\u001b[0m\u001b[1;33m.\u001b[0m\u001b[0mcolumns\u001b[0m\u001b[1;33m)\u001b[0m\u001b[1;33m)\u001b[0m\u001b[1;33m\u001b[0m\u001b[1;33m\u001b[0m\u001b[0m\n",
      "\u001b[1;31mNameError\u001b[0m: name 'cmap' is not defined"
     ]
    }
   ],
   "source": [
    "y_actu = pd.Series(label_test, name='Actual')\n",
    "y_pred = pd.Series(y_pre[:2000], name='Predicted')\n",
    "df_confusion = pd.crosstab(y_actu, y_pred)\n",
    "df_conf_norm = df_confusion / df_confusion.sum(axis=1)\n",
    "plt.matshow(df_confusion, cmap=cmap) # imshow\n",
    "plt.colorbar()\n",
    "tick_marks = np.arange(len(df_confusion.columns))\n",
    "plt.ylabel(df_confusion.index.name)\n",
    "plt.xlabel(df_confusion.columns.name)\n"
   ]
  },
  {
   "cell_type": "code",
   "execution_count": 51,
   "metadata": {},
   "outputs": [
    {
     "name": "stdout",
     "output_type": "stream",
     "text": [
      "[(0, 0.83), (1, 0.96), (2, 0.64), (3, 0.89), (4, 0.73), (5, 0.93), (6, 0.63), (7, 0.88), (8, 0.95), (9, 0.94)]\n",
      "[(0, 0.77), (1, 0.99), (2, 0.82), (3, 0.81), (4, 0.71), (5, 0.89), (6, 0.6), (7, 0.93), (8, 0.95), (9, 0.93)]\n",
      "[(0, 0.8), (1, 0.97), (2, 0.72), (3, 0.85), (4, 0.72), (5, 0.91), (6, 0.61), (7, 0.91), (8, 0.95), (9, 0.93)]\n"
     ]
    }
   ],
   "source": [
    "j = 0\n",
    "precision = []\n",
    "recall = []\n",
    "f1 = []\n",
    "true_pos = [] #true positive\n",
    "false_pos = [] #false positive\n",
    "roc_truepositive = [] #for ROC curve\n",
    "roc_falsepositive = []\n",
    "while j <= 9:\n",
    "    TP = 0\n",
    "    FP = 0\n",
    "    FN = 0\n",
    "    TN = 0\n",
    "    for i in range(0,2000):\n",
    "        if(y_pred[i] == j and label_test[i] == j):\n",
    "            TP += 1\n",
    "        elif (y_pred[i] == j and label_test[i] != j):\n",
    "            FP += 1 \n",
    "        elif (y_pred[i] != j and label_test[i] == j):\n",
    "            FN += 1\n",
    "        else:\n",
    "            TN += 1\n",
    "    p = TP/(TP+FP)\n",
    "    r = TP/(TP+FN)\n",
    "    fr = FP/(2000-(TP+FP))\n",
    "    f = (2*p*r)/(p+r)\n",
    "    roc_truepositive.append(p)\n",
    "    roc_falsepositive.append(fr)\n",
    "    precision.append((j,round(p,2)))\n",
    "    recall.append((j,round(r,2)))\n",
    "    f1.append((j,round(f,2)))\n",
    "    j = j + 1\n",
    "    \n",
    "print(precision)\n",
    "print(recall)\n",
    "print(f1)"
   ]
  },
  {
   "cell_type": "code",
   "execution_count": 52,
   "metadata": {},
   "outputs": [
    {
     "data": {
      "image/png": "[encoded data removed]",
      "text/plain": [
       "<Figure size 432x288 with 1 Axes>"
      ]
     },
     "metadata": {
      "needs_background": "light"
     },
     "output_type": "display_data"
    }
   ],
   "source": [
    "plt.plot(*zip(*precision))\n",
    "plt.xlabel(\"Class\",fontsize=13)\n",
    "plt.ylabel(\"Precision score\",fontsize=13)\n",
    "plt.show()"
   ]
  },
  {
   "cell_type": "code",
   "execution_count": 53,
   "metadata": {},
   "outputs": [
    {
     "data": {
      "image/png": "[encoded data removed]",
      "text/plain": [
       "<Figure size 432x288 with 1 Axes>"
      ]
     },
     "metadata": {
      "needs_background": "light"
     },
     "output_type": "display_data"
    }
   ],
   "source": [
    "plt.plot(*zip(*recall))\n",
    "plt.xlabel(\"Class\",fontsize=13)\n",
    "plt.ylabel(\"Recall score\",fontsize=13)\n",
    "plt.show()"
   ]
  },
  {
   "cell_type": "code",
   "execution_count": 54,
   "metadata": {},
   "outputs": [
    {
     "data": {
      "image/png": "[encoded data removed]",
      "text/plain": [
       "<Figure size 432x288 with 1 Axes>"
      ]
     },
     "metadata": {
      "needs_background": "light"
     },
     "output_type": "display_data"
    }
   ],
   "source": [
    "plt.plot(*zip(*f1))\n",
    "plt.xlabel(\"Class\",fontsize=13)\n",
    "plt.ylabel(\"F1 score\",fontsize=13)\n",
    "plt.show()"
   ]
  },
  {
   "cell_type": "code",
   "execution_count": 55,
   "metadata": {},
   "outputs": [
    {
     "data": {
      "text/plain": [
       "<BarContainer object of 4 artists>"
      ]
     },
     "execution_count": 55,
     "metadata": {},
     "output_type": "execute_result"
    },
    {
     "data": {
      "image/png": "[encoded data removed]",
      "text/plain": [
       "<Figure size 432x288 with 1 Axes>"
      ]
     },
     "metadata": {
      "needs_background": "light"
     },
     "output_type": "display_data"
    }
   ],
   "source": [
    "data = {'40-60': accuracy_40, '60-40': accuracy_60, '70-30': accuracy_70, 'test': accuracy}\n",
    "names = list(data.keys())\n",
    "values = list(data.values())\n",
    "plt.title(\"Distribution of train data split and test\")\n",
    "plt.xlabel(\"validation split and test set\")\n",
    "plt.ylabel(\"Accuracy in terms of percentage\")\n",
    "plt.ylim(70,90)\n",
    "plt.bar(names, values)"
   ]
  },
  {
   "cell_type": "markdown",
   "metadata": {},
   "source": [
    "# Loading data for random forest"
   ]
  },
  {
   "cell_type": "code",
   "execution_count": 56,
   "metadata": {},
   "outputs": [
    {
     "name": "stdout",
     "output_type": "stream",
     "text": [
      "['images_training.h5', 'labels_training.h5']\n",
      "Shape of train data and train label: (30000, 784) (30000,)\n",
      "['images_testing.h5', 'labels_testing_2000.h5']\n",
      "Shape of test data and test label: (10000, 784) (2000,)\n"
     ]
    }
   ],
   "source": [
    "print(os.listdir(\"./data/train\"))\n",
    "\n",
    "with h5py.File('./data/train/images_training.h5','r') as H:\n",
    "    data_train = np.copy(H['datatrain'])\n",
    "with h5py.File('./data/train/labels_training.h5','r') as H:\n",
    "    label_train = np.copy(H['labeltrain'])\n",
    "\n",
    "\n",
    "print(\"Shape of train data and train label:\",data_train.shape,label_train.shape)\n",
    "\n",
    "print(os.listdir(\"./Input\"))\n",
    "with h5py.File('./Input/images_testing.h5','r') as H:\n",
    "    data_test = np.copy(H['datatest'])\n",
    "with h5py.File('./Input/labels_testing_2000.h5','r') as H:\n",
    "    label_test = np.copy(H['labeltest'])\n",
    "\n",
    "print(\"Shape of test data and test label:\",data_test.shape,label_test.shape)"
   ]
  },
  {
   "cell_type": "markdown",
   "metadata": {},
   "source": [
    "# Random Forest Classifier Functions"
   ]
  },
  {
   "cell_type": "code",
   "execution_count": 57,
   "metadata": {},
   "outputs": [],
   "source": [
    "# Check purity function checks if the subset data provided as input\n",
    "# contains single or multiple class\n",
    "# True if single class, else False\n",
    "def check_purity(data):\n",
    "    label_column = data[:, -1]\n",
    "    unique_classes = np.unique(label_column)\n",
    "\n",
    "    if len(unique_classes) == 1:\n",
    "        return True\n",
    "    else:\n",
    "        return False\n",
    "\n",
    "# This function is used to classify a data to its class\n",
    "# once the data purity check is true\n",
    "def classify_data(data):\n",
    "    label_column = data[:, -1]\n",
    "    unique_classes, counts_unique_classes = np.unique(label_column, return_counts=True)\n",
    "\n",
    "    index = counts_unique_classes.argmax()\n",
    "    classification = unique_classes[index]\n",
    "\n",
    "    return classification\n",
    "\n",
    "# inputs are data and number of features to split on\n",
    "# Returns a dictionary containing column index as key and\n",
    "# Number of possible splits for each feature as values\n",
    "def get_potential_splits(data, random_subspace):\n",
    "    splits = {}\n",
    "    n_columns = data.shape[1]\n",
    "    col_ind = list(range(n_columns - 1))  \n",
    "    if random_subspace and random_subspace <= len(col_ind):\n",
    "        sample = np.arange(len(col_ind))\n",
    "        np.random.shuffle(sample)\n",
    "        col_ind = sample[:random_subspace]\n",
    "    for column_index in col_ind:\n",
    "        unique_values = np.unique(data[:, column_index])\n",
    "        splits[column_index] = unique_values\n",
    "    return splits\n",
    "\n",
    "\n",
    "# Returns the entropy of data w.r.t label classes\n",
    "def calculate_entropy(data):\n",
    "    label_column = data[:, -1]\n",
    "    counts = np.unique(label_column, return_counts=True)[1]\n",
    "    probabilities = counts / counts.sum()\n",
    "    entropy = sum(probabilities * -np.log2(probabilities))\n",
    "    return entropy\n",
    "\n",
    "# Overall entropy of data above and below the decision boundary\n",
    "def calculate_overall_entropy(data_below, data_above):\n",
    "    n = len(data_below) + len(data_above)\n",
    "    p_data_below = len(data_below) / n\n",
    "    p_data_above = len(data_above) / n\n",
    "\n",
    "    overall_entropy = (p_data_below * calculate_entropy(data_below)\n",
    "                       + p_data_above * calculate_entropy(data_above))\n",
    "\n",
    "    return overall_entropy\n",
    "\n",
    "# Used to specify the best split by iterating over entropy function\n",
    "def determine_best_split(data, potential_splits):\n",
    "    overall_entropy = 999\n",
    "    for column_index in potential_splits:\n",
    "        for value in potential_splits[column_index]:\n",
    "            data_below, data_above = split_data(data, split_column=column_index, split_value=value)\n",
    "            current_overall_entropy = calculate_overall_entropy(data_below, data_above)\n",
    "\n",
    "            if current_overall_entropy <= overall_entropy:\n",
    "                overall_entropy = current_overall_entropy\n",
    "                best_split_column = column_index\n",
    "                best_split_value = value\n",
    "\n",
    "    return best_split_column, best_split_value\n",
    "\n",
    "\n",
    "# Split the data and returns the data above and below the decision boundary\n",
    "def split_data(data, split_column, split_value):\n",
    "    split_column_values = data[:, split_column]\n",
    "\n",
    "    data_below = data[split_column_values <= split_value]\n",
    "    data_above = data[split_column_values > split_value]\n",
    "\n",
    "    return data_below, data_above\n",
    "\n",
    "# The main decision tree function which calls the best split function\n",
    "# Creates questions and threshold for each split\n",
    "def decision_tree_algorithm(df, counter=0, min_samples=2, max_depth=5, random_subspace=None):\n",
    "    # data preparations\n",
    "    if counter == 0:\n",
    "        global COLUMN_HEADERS\n",
    "        COLUMN_HEADERS = df.columns\n",
    "        data = df.values\n",
    "    else:\n",
    "        data = df\n",
    "\n",
    "    if (check_purity(data)) or (len(data) < min_samples) or (counter == max_depth):\n",
    "        classification = classify_data(data)\n",
    "\n",
    "        return classification\n",
    "    else:\n",
    "        counter += 1\n",
    "        potential_splits = get_potential_splits(data, random_subspace)\n",
    "        split_column, split_value = determine_best_split(data, potential_splits)\n",
    "        data_below, data_above = split_data(data, split_column, split_value)\n",
    "\n",
    "        if len(data_below) == 0 or len(data_above) == 0:\n",
    "            classification = classify_data(data)\n",
    "            return classification\n",
    "        feature_name = COLUMN_HEADERS[split_column]\n",
    "\n",
    "        question = \"{} <= {}\".format(feature_name, split_value)\n",
    "        sub_tree = {question: []}\n",
    "        yes_answer = decision_tree_algorithm(data_below, counter, min_samples, max_depth, random_subspace)\n",
    "        no_answer = decision_tree_algorithm(data_above, counter, min_samples, max_depth, random_subspace)\n",
    "\n",
    "        if yes_answer == no_answer:\n",
    "            sub_tree = yes_answer\n",
    "        else:\n",
    "            sub_tree[question].append(yes_answer)\n",
    "            sub_tree[question].append(no_answer)\n",
    "\n",
    "        return sub_tree\n",
    "\n",
    "# Predict class of a sample by going through each split question of the tree\n",
    "def predict_example(example, tree):\n",
    "    question = list(tree.keys())[0]\n",
    "    feature_name, comparison_operator, value = question.split(\" \")\n",
    "\n",
    "    if example[int(feature_name)] <= float(value):\n",
    "        answer = tree[question][0]\n",
    "    else:\n",
    "        answer = tree[question][1]\n",
    "    if not isinstance(answer, dict):\n",
    "        return answer\n",
    "    else:\n",
    "        residual_tree = answer\n",
    "        return predict_example(example, residual_tree)\n",
    "\n",
    "# Predict the test data of decision tree\n",
    "def decision_tree_predictions(test_df, tree):\n",
    "    predictions = test_df.apply(predict_example, args=(tree,), axis=1)\n",
    "    return predictions\n",
    "\n",
    "# Bootstraping data by given number of size \n",
    "def bootstrapping(train_df, n_bootstrap):\n",
    "    bootstrap_indices = np.random.randint(low=0, high=len(train_df), size=n_bootstrap)\n",
    "    df_bootstrapped = train_df.iloc[bootstrap_indices]\n",
    "\n",
    "    return df_bootstrapped\n",
    "\n",
    "# Main random forest function which includes bootstrapping\n",
    "# Forming different decision tree and return them in a list\n",
    "def random_forest_algorithm(data_train,label_train, n_trees, n_bootstrap, n_features, dt_max_depth):\n",
    "    train_df = pd.DataFrame(data_train).join(pd.DataFrame(label_train).rename(columns = {0:'label'}))\n",
    "    forest = []\n",
    "    for i in range(n_trees):\n",
    "        df_bootstrapped = bootstrapping(train_df, n_bootstrap)\n",
    "        tree = decision_tree_algorithm(df_bootstrapped, max_depth=dt_max_depth, random_subspace=n_features)\n",
    "        forest.append(tree)\n",
    "\n",
    "    return forest\n",
    "\n",
    "# To predict the test data using random forest model\n",
    "def random_forest_predictions(data_test,label_test, forest):\n",
    "    test_df = pd.DataFrame(data_test).join(pd.DataFrame(label_test).rename(columns = {0:'label'}))\n",
    "    df_predictions = {}\n",
    "    for i in range(len(forest)):\n",
    "        column_name = \"tree_{}\".format(i)\n",
    "        predictions = decision_tree_predictions(test_df, tree=forest[i])\n",
    "        df_predictions[column_name] = predictions\n",
    "\n",
    "    df_predictions = pd.DataFrame(df_predictions)\n",
    "    random_forest_predictions = df_predictions.mode(axis=1)[0]\n",
    "\n",
    "    return random_forest_predictions\n",
    "\n",
    "# Returns Accuracy of model in percentage\n",
    "def calculate_accuracy(predictions, labels):\n",
    "    predictions_correct = predictions == labels\n",
    "    accuracy = (predictions_correct.mean() * 100)\n",
    "\n",
    "    return accuracy"
   ]
  },
  {
   "cell_type": "markdown",
   "metadata": {},
   "source": [
    "# Calling Random Forest Classifier"
   ]
  },
  {
   "cell_type": "code",
   "execution_count": 58,
   "metadata": {},
   "outputs": [
    {
     "name": "stdout",
     "output_type": "stream",
     "text": [
      "Accuracy: 81.0%\n",
      "Run Time: 9.66 Minutes\n"
     ]
    }
   ],
   "source": [
    "start = time.time()\n",
    "# Number of features\n",
    "n_cols = int(data_train.shape[1]**0.5) # given as square root of total independent features\n",
    "# hyper-parameters are updated in random_forest_algorithm function\n",
    "forest = random_forest_algorithm(data_train,label_train, n_trees=33,n_bootstrap=800, n_features=n_cols, dt_max_depth=10)\n",
    "end = time.time()\n",
    "\n",
    "# Prediction and accuracy\n",
    "y_pre = random_forest_predictions(data_test,label_test, forest)\n",
    "accuracy = calculate_accuracy(y_pre[:2000],label_test)\n",
    "\n",
    "print(\"Accuracy: {}%\".format(accuracy))\n",
    "print(\"Run Time:\",round((end - start)/60.0,2),\"Minutes\")"
   ]
  },
  {
   "cell_type": "markdown",
   "metadata": {},
   "source": [
    "# kNN functions"
   ]
  },
  {
   "cell_type": "code",
   "execution_count": 61,
   "metadata": {},
   "outputs": [],
   "source": [
    "#implementing kNN (only used to predict the first 150 labels using 1000 samples from the dataset due to time complexity)\n",
    "\n",
    "#distance metric\n",
    "def euclideanDistance(instance1, instance2, length):\n",
    "    distance = 0\n",
    "    for x in range(length): #going over all the features(pixels)\n",
    "        distance += np.square(instance1[x] - instance2[x]) #euclidean distance\n",
    "    return np.sqrt(distance)\n",
    " \n",
    "#output the first k neighbours    \n",
    "def getNeighbors(trainingSet, testInstance, k):\n",
    "    distances = []\n",
    "    #length = len(testInstance)-1 \n",
    "    for x in range(1000):\n",
    "        dist = euclideanDistance(testInstance, trainingSet[x], 784)\n",
    "        distances.append((trainingSet[x], dist)) #appending tuples where first element is an image vector and the second is the distance\n",
    "    distances.sort(key=operator.itemgetter(1)) #sorting the distances in ascending order\n",
    "    neighbors = []\n",
    "    for x in range(k): #nearest k neighbours\n",
    "        neighbors.append(distances[x][0])\n",
    "    return neighbors\n",
    " \n",
    "#predicting the response, given the neighbours\n",
    "def getResponse(neighbors):\n",
    "    classVotes = {}\n",
    "    for x in range(len(neighbors)):\n",
    "        response = neighbors[x][-1]\n",
    "        if response in classVotes:\n",
    "            classVotes[response] += 1\n",
    "        else:\n",
    "            classVotes[response] = 1\n",
    "    sortedVotes = sorted(classVotes.items(), key=operator.itemgetter(1), reverse=True)\n",
    "    return sortedVotes[0][0]\n",
    " \n",
    "#calculating the accuracy\n",
    "def getAccuracy(testSet, predictions):\n",
    "    count = testSet == predictions #correct classifications\n",
    "    accuracy = count.sum()/len(count)\n",
    "    return accuracy*100.0"
   ]
  },
  {
   "cell_type": "markdown",
   "metadata": {},
   "source": [
    "# Calling kNN"
   ]
  },
  {
   "cell_type": "code",
   "execution_count": 62,
   "metadata": {},
   "outputs": [
    {
     "name": "stdout",
     "output_type": "stream",
     "text": [
      "Accuracy: 75.33333333333333%\n",
      "Run Time: 6.7 Minutes\n"
     ]
    }
   ],
   "source": [
    "\n",
    "    trainingSet = np.append(data_train_before_reshape,label_train[:,np.newaxis],axis=1)\n",
    "    # generate predictions\n",
    "    predictions=[]\n",
    "    k = 3\n",
    "    start_time = time.time()\n",
    "    for x in range(200):\n",
    "        neighbors = getNeighbors(trainingSet, data_test[x], k)\n",
    "        result = getResponse(neighbors)\n",
    "        predictions.append(result)\n",
    "    accuracy = getAccuracy(label_test[:150], predictions[:150])\n",
    "    elapsed_time = time.time()-start_time\n",
    "    print(\"Accuracy: {}%\".format(accuracy))\n",
    "    print(\"Run Time:\",round(elapsed_time/60.0,2),\"Minutes\")"
   ]
  },
  {
   "cell_type": "markdown",
   "metadata": {},
   "source": [
    "### How to output the prediction\n",
    "Output a file “predicted_labels.h5” that can be loaded in the same way as above. You may use the following code to generate an output file that meets the requirement:"
   ]
  },
  {
   "cell_type": "code",
   "execution_count": 21,
   "metadata": {},
   "outputs": [],
   "source": [
    "import numpy as np\n",
    "# assume output is the predicted labels\n",
    "with h5py.File('./Output/predicted_labels.h5','w') as H:\n",
    "    H.create_dataset('output',data=y_pre)"
   ]
  },
  {
   "cell_type": "markdown",
   "metadata": {
    "nbpresent": {
     "id": "aca7ed33-2da5-4fbf-a861-8a886f4020a8"
    }
   },
   "source": [
    "We will load the output file using the code for loading data above. It is your responsibility to make sure the output file can be correctly loaded using this code.\n",
    "The performance of your classifier will be evaluated in terms of the top-1 accuracy metric, i.e.<br /><br />\n",
    "<div style=\"text-align: center\"> $$\\text{Accuracy} = \\frac{\\text{Number of correct classifications}}{\\text{Total number of test examples used}} * 100\\%$$"
   ]
  },
  {
   "cell_type": "markdown",
   "metadata": {
    "nbpresent": {
     "id": "1e4a01db-cd92-48f8-bdaa-21c39456cfcb"
    }
   },
   "source": [
    "## Task description\n",
    "Each group consists of 3 students. Your task is to determine / build a classifier for the given data set to classify images into categories and write a report. The score allocation is as follows:\n",
    "    * Classifier (code): max 20 points\n",
    "    * Report: max 80 points\n",
    "Please refer to the rubric in Canvas for detailed marking scheme. The report and the code are to be submitted in Canvas by the due date.<br />\n",
    "This assignment must be submitted in Python3. Although you are allowed to use external libraries for optimisation and linear algebraic calculations, you are NOT allowed to use external libraries for basic pre-processing or classification. For instance, you are allowed to use scipy.optimize for gradient descent or scipy.linalg.svd for matrix decomposition. However, you are NOT allowed to use sklearn.svm for classification (i.e. you have to implement the classifier yourself). If you have any ambiguity whether you can use a particular library or a function, please refer to Canvas -> Modules -> ”Assignment 1 FAQs” for clarification."
   ]
  },
  {
   "cell_type": "markdown",
   "metadata": {},
   "source": [
    "## Instructions to hand in the assignment\n",
    "### Go to Canvas -> Assignments -> \"Assignment 1\" and submit 2 files only: the report and the code file.\n",
    "1) Report (a .pdf file): The report should include each member’s details (student IDs and names)<br />\n",
    "2) Code (a .ipynb file): The code must be able to be run with the following folder structure:\n",
    "    - Algorithm (the root folder): Your .ipynb file containing Python code will be placed on this folder when we test and run your code. \n",
    "    - Input (a sub-folder under Algorithm): We will copy the test dataset into this Input folder when we test and run your code. Please make sure your code is able to read the test dataset from this Input folder.\n",
    "    - Output (a sub-folder under Algorithm): Your code must be able to generate a prediction file named “predicted_labels.h5” to be saved in this Output folder. The prediction file should contain predicted labels of the test dataset. We will use your prediction output file for grading purpose.\n",
    "\n",
    "Since this is a group work, only one student from your group needs to submit all the files which must be named with student ID numbers of all your group members separated by underscores e.g. “SID1xxxx_SID2xxxx_SID3xxxx.pdf”,  “SID1xxxx_SID2xxxx_SID3xxxx.ipynb”."
   ]
  },
  {
   "cell_type": "markdown",
   "metadata": {},
   "source": [
    "### Your submission should include the report and the code. \n",
    "A plagiarism checker will be used. Clearly provide instructions on how to run your code in the Appendix section of your report."
   ]
  },
  {
   "cell_type": "markdown",
   "metadata": {},
   "source": [
    "### The report must clearly show :\n",
    "    1. Details of your classifier \n",
    "    2. The predicted results from your classifier on test examples\n",
    "    3. Run-time\n",
    "    4. Hardware and software specifications of the computer that you used for performance evaluation"
   ]
  },
  {
   "cell_type": "markdown",
   "metadata": {},
   "source": [
    "### A template for writing the report \n",
    "Note that you have to strictly follow the format of the template. The maximum length of the report is 20 (including references)."
   ]
  },
  {
   "cell_type": "markdown",
   "metadata": {},
   "source": [
    "### A penalty of MINUS 20 percent (-20%) for each day after the due date. \n",
    "The maximum delay for assignment submission is 5 (five) days, after which assignment will not be accepted.\n",
    "\n",
    "**You should upload your assignment at least half a day or one day prior to the submission deadline to avoid network congestion**.\n",
    "\n",
    "Canvas may not be able to handle a large number of submission happening at the same time. If you submit your assignment at a time close to the deadline, a submission error may occur causing your submission to be considered late. Penalty will be applied to late submission regardless of issues. "
   ]
  },
  {
   "cell_type": "markdown",
   "metadata": {},
   "source": [
    "### All files required for assignment 1 can be downloaded from Canvas -> Assignments -> Assignment 1\n"
   ]
  }
 ],
 "metadata": {
  "anaconda-cloud": {},
  "kernelspec": {
   "display_name": "Python 3",
   "language": "python",
   "name": "python3"
  },
  "language_info": {
   "codemirror_mode": {
    "name": "ipython",
    "version": 3
   },
   "file_extension": ".py",
   "mimetype": "text/x-python",
   "name": "python",
   "nbconvert_exporter": "python",
   "pygments_lexer": "ipython3",
   "version": "3.7.3"
  }
 },
 "nbformat": 4,
 "nbformat_minor": 2
}
